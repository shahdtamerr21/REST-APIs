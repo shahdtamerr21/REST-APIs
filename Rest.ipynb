{
  "nbformat": 4,
  "nbformat_minor": 0,
  "metadata": {
    "colab": {
      "provenance": [],
      "authorship_tag": "ABX9TyOfLZb47piRtVumi4T7YZK8",
      "include_colab_link": true
    },
    "kernelspec": {
      "name": "python3",
      "display_name": "Python 3"
    },
    "language_info": {
      "name": "python"
    }
  },
  "cells": [
    {
      "cell_type": "markdown",
      "metadata": {
        "id": "view-in-github",
        "colab_type": "text"
      },
      "source": [
        "<a href=\"https://colab.research.google.com/github/shahdtamerr21/REST-APIs/blob/main/Rest.ipynb\" target=\"_parent\"><img src=\"https://colab.research.google.com/assets/colab-badge.svg\" alt=\"Open In Colab\"/></a>"
      ]
    },
    {
      "cell_type": "code",
      "execution_count": null,
      "metadata": {
        "colab": {
          "base_uri": "https://localhost:8080/"
        },
        "id": "IzkODVuvJONA",
        "outputId": "381e4c54-6f1a-4d49-cd3c-ce317d2416f5"
      },
      "outputs": [
        {
          "output_type": "stream",
          "name": "stdout",
          "text": [
            "Requirement already satisfied: flask in /usr/local/lib/python3.11/dist-packages (3.1.0)\n",
            "Requirement already satisfied: requests in /usr/local/lib/python3.11/dist-packages (2.32.3)\n",
            "Requirement already satisfied: Werkzeug>=3.1 in /usr/local/lib/python3.11/dist-packages (from flask) (3.1.3)\n",
            "Requirement already satisfied: Jinja2>=3.1.2 in /usr/local/lib/python3.11/dist-packages (from flask) (3.1.5)\n",
            "Requirement already satisfied: itsdangerous>=2.2 in /usr/local/lib/python3.11/dist-packages (from flask) (2.2.0)\n",
            "Requirement already satisfied: click>=8.1.3 in /usr/local/lib/python3.11/dist-packages (from flask) (8.1.8)\n",
            "Requirement already satisfied: blinker>=1.9 in /usr/local/lib/python3.11/dist-packages (from flask) (1.9.0)\n",
            "Requirement already satisfied: charset-normalizer<4,>=2 in /usr/local/lib/python3.11/dist-packages (from requests) (3.4.1)\n",
            "Requirement already satisfied: idna<4,>=2.5 in /usr/local/lib/python3.11/dist-packages (from requests) (3.10)\n",
            "Requirement already satisfied: urllib3<3,>=1.21.1 in /usr/local/lib/python3.11/dist-packages (from requests) (2.3.0)\n",
            "Requirement already satisfied: certifi>=2017.4.17 in /usr/local/lib/python3.11/dist-packages (from requests) (2025.1.31)\n",
            "Requirement already satisfied: MarkupSafe>=2.0 in /usr/local/lib/python3.11/dist-packages (from Jinja2>=3.1.2->flask) (3.0.2)\n"
          ]
        }
      ],
      "source": [
        "pip install flask requests"
      ]
    },
    {
      "cell_type": "code",
      "source": [
        "from flask import Flask, request, jsonify\n",
        "import threading\n",
        "\n",
        "app = Flask(__name__)\n",
        "\n",
        "# A simple route to handle POST requests\n",
        "@app.route('/message', methods=['POST'])\n",
        "def receive_message():\n",
        "    data = request.json\n",
        "    if not data or \"message\" not in data:\n",
        "        return jsonify({\"error\": \"No message received\"}), 400\n",
        "    return jsonify({\"response\": f\"Received: {data['message']}\"})\n",
        "\n",
        "# Run the server in a thread\n",
        "def run_server():\n",
        "    app.run(host='0.0.0.0', port=5000)\n",
        "\n",
        "thread = threading.Thread(target=run_server)\n",
        "thread.start()\n"
      ],
      "metadata": {
        "colab": {
          "base_uri": "https://localhost:8080/"
        },
        "id": "fuonIGGVJXB2",
        "outputId": "f308dc24-877d-4e59-b09e-b3d765c10fbd"
      },
      "execution_count": null,
      "outputs": [
        {
          "output_type": "stream",
          "name": "stdout",
          "text": [
            " * Serving Flask app '__main__'\n",
            " * Debug mode: off\n"
          ]
        },
        {
          "output_type": "stream",
          "name": "stderr",
          "text": [
            "INFO:werkzeug:\u001b[31m\u001b[1mWARNING: This is a development server. Do not use it in a production deployment. Use a production WSGI server instead.\u001b[0m\n",
            " * Running on all addresses (0.0.0.0)\n",
            " * Running on http://127.0.0.1:5000\n",
            " * Running on http://172.28.0.12:5000\n",
            "INFO:werkzeug:\u001b[33mPress CTRL+C to quit\u001b[0m\n"
          ]
        }
      ]
    },
    {
      "cell_type": "code",
      "source": [
        "import requests\n",
        "\n",
        "server_url = \"http://127.0.0.1:5000/message\"  # Localhost server URL\n",
        "\n",
        "for i in range(10):\n",
        "    response = requests.post(server_url, json={\"message\": f\"Message {i+1}\"})\n",
        "    print(response.json())"
      ],
      "metadata": {
        "colab": {
          "base_uri": "https://localhost:8080/"
        },
        "id": "1LbbVI_wK9xN",
        "outputId": "7ab72881-8813-4e85-dcf7-02edeb5dc3d5"
      },
      "execution_count": null,
      "outputs": [
        {
          "output_type": "stream",
          "name": "stderr",
          "text": [
            "INFO:werkzeug:127.0.0.1 - - [16/Feb/2025 09:51:59] \"POST /message HTTP/1.1\" 200 -\n",
            "INFO:werkzeug:127.0.0.1 - - [16/Feb/2025 09:51:59] \"POST /message HTTP/1.1\" 200 -\n",
            "INFO:werkzeug:127.0.0.1 - - [16/Feb/2025 09:51:59] \"POST /message HTTP/1.1\" 200 -\n",
            "INFO:werkzeug:127.0.0.1 - - [16/Feb/2025 09:51:59] \"POST /message HTTP/1.1\" 200 -\n",
            "INFO:werkzeug:127.0.0.1 - - [16/Feb/2025 09:51:59] \"POST /message HTTP/1.1\" 200 -\n",
            "INFO:werkzeug:127.0.0.1 - - [16/Feb/2025 09:51:59] \"POST /message HTTP/1.1\" 200 -\n",
            "INFO:werkzeug:127.0.0.1 - - [16/Feb/2025 09:51:59] \"POST /message HTTP/1.1\" 200 -\n",
            "INFO:werkzeug:127.0.0.1 - - [16/Feb/2025 09:51:59] \"POST /message HTTP/1.1\" 200 -\n",
            "INFO:werkzeug:127.0.0.1 - - [16/Feb/2025 09:51:59] \"POST /message HTTP/1.1\" 200 -\n",
            "INFO:werkzeug:127.0.0.1 - - [16/Feb/2025 09:51:59] \"POST /message HTTP/1.1\" 200 -\n"
          ]
        },
        {
          "output_type": "stream",
          "name": "stdout",
          "text": [
            "{'response': 'Received: Message 1'}\n",
            "{'response': 'Received: Message 2'}\n",
            "{'response': 'Received: Message 3'}\n",
            "{'response': 'Received: Message 4'}\n",
            "{'response': 'Received: Message 5'}\n",
            "{'response': 'Received: Message 6'}\n",
            "{'response': 'Received: Message 7'}\n",
            "{'response': 'Received: Message 8'}\n",
            "{'response': 'Received: Message 9'}\n",
            "{'response': 'Received: Message 10'}\n"
          ]
        }
      ]
    }
  ]
}